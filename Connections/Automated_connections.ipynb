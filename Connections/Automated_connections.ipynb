{
 "cells": [
  {
   "cell_type": "code",
   "execution_count": 1,
   "metadata": {},
   "outputs": [],
   "source": [
    "import cmapPy.pandasGEXpress.parse_gct \n",
    "import pandas as pd"
   ]
  },
  {
   "cell_type": "code",
   "execution_count": 2,
   "metadata": {},
   "outputs": [
    {
     "name": "stdin",
     "output_type": "stream",
     "text": [
      "Hello. Please enter name of gene or compound whose connections you want to discover:  EGLN1\n"
     ]
    }
   ],
   "source": [
    "name=input(\"Hello. Please enter name of gene or compound whose connections you want to discover: \")"
   ]
  },
  {
   "cell_type": "code",
   "execution_count": 3,
   "metadata": {},
   "outputs": [],
   "source": [
    "from selenium import webdriver\n",
    "from selenium.webdriver.support.ui import WebDriverWait\n",
    "from selenium.webdriver.support import expected_conditions as EC\n",
    "from selenium.webdriver.common.by import By\n",
    "from selenium.common.exceptions import TimeoutException"
   ]
  },
  {
   "cell_type": "code",
   "execution_count": 4,
   "metadata": {},
   "outputs": [
    {
     "data": {
      "text/plain": [
       "<selenium.webdriver.remote.webelement.WebElement (session=\"baa1790c03ff43bf85a41e215a314276\", element=\"a6d6f6e8-bb9e-4113-a3c0-81d534bbf227\")>"
      ]
     },
     "execution_count": 4,
     "metadata": {},
     "output_type": "execute_result"
    }
   ],
   "source": [
    "driver = webdriver.Chrome()\n",
    "chrome_path=r\"E:\\PyANA\\Scripts\\chromedriver.exe\"\n",
    "driver=webdriver.Chrome(chrome_path)\n",
    "driver.get(\"https://clue.io/command?q=/conn%20{}\".format(name))\n",
    "delay=30\n",
    "wait = WebDriverWait(driver, 40)\n",
    "wait.until(EC.visibility_of_element_located((By.XPATH,'//*[@id=\"morpheus-tab2\"]/div/div[2]/div[2]/div[2]/div[2]/div/button')))\n",
    "\n",
    "#try:\n",
    "    #myElem = WebDriverWait(driver, delay).until(EC.presence_of_element_located((By.XPATH, '//*[@id=\"morpheus-tab2\"]/div/div[2]/div[2]/div[2]/div[2]/div/button')))\n",
    "    #print (\"Page is ready!\")\n",
    "#except TimeoutException:\n",
    "    #print (\"Loading took too much time!\")"
   ]
  },
  {
   "cell_type": "code",
   "execution_count": 5,
   "metadata": {},
   "outputs": [],
   "source": [
    "driver.find_element_by_xpath('//*[@id=\"morpheus-tab2\"]/div/div[2]/div[2]/div[2]/div[2]/div/button/i').click()"
   ]
  },
  {
   "cell_type": "code",
   "execution_count": 11,
   "metadata": {},
   "outputs": [],
   "source": [
    "wait = WebDriverWait(driver, 5)\n",
    "wait.until(EC.visibility_of_element_located((By.XPATH,'//*[@id=\"export-morpheus-tab2\"]/div/div/form/div/div[1]/div/input')))\n",
    "driver.find_element_by_xpath('//*[@id=\"export-morpheus-tab2\"]/div/div/form/div/div[1]/div/input').click()"
   ]
  },
  {
   "cell_type": "code",
   "execution_count": 12,
   "metadata": {},
   "outputs": [],
   "source": [
    "wait = WebDriverWait(driver, 5)\n",
    "wait.until(EC.visibility_of_element_located((By.XPATH,'//*[@id=\"export-morpheus-tab2\"]/div/div/form/div/div[2]/div[1]/input')))\n",
    "driver.find_element_by_xpath('//*[@id=\"export-morpheus-tab2\"]/div/div/form/div/div[2]/div[1]/input').send_keys(\"{}\".format(name))"
   ]
  },
  {
   "cell_type": "code",
   "execution_count": 13,
   "metadata": {},
   "outputs": [],
   "source": [
    "wait = WebDriverWait(driver, 5)\n",
    "wait.until(EC.visibility_of_element_located((By.XPATH,'//*[@id=\"export-morpheus-tab2\"]/div/div/form/div/div[2]/div[2]/button[2]')))\n",
    "driver.find_element_by_xpath('//*[@id=\"export-morpheus-tab2\"]/div/div/form/div/div[2]/div[2]/button[2]').click()"
   ]
  },
  {
   "cell_type": "code",
   "execution_count": 14,
   "metadata": {},
   "outputs": [],
   "source": [
    "wait = WebDriverWait(driver, 15)"
   ]
  },
  {
   "cell_type": "code",
   "execution_count": 15,
   "metadata": {},
   "outputs": [],
   "source": [
    "## Run once file has been downloaded \n",
    "df=cmapPy.pandasGEXpress.parse_gct.parse(r'C:\\Users\\Aditya Agarwal\\Downloads\\{}.gct'.format(name),convert_neg_666=True, rid=None, cid=None, ridx=None, cidx=None, row_meta_only=True, col_meta_only=False, make_multiindex=False)"
   ]
  },
  {
   "cell_type": "code",
   "execution_count": 16,
   "metadata": {},
   "outputs": [
    {
     "data": {
      "text/html": [
       "<div>\n",
       "<style scoped>\n",
       "    .dataframe tbody tr th:only-of-type {\n",
       "        vertical-align: middle;\n",
       "    }\n",
       "\n",
       "    .dataframe tbody tr th {\n",
       "        vertical-align: top;\n",
       "    }\n",
       "\n",
       "    .dataframe thead th {\n",
       "        text-align: right;\n",
       "    }\n",
       "</style>\n",
       "<table border=\"1\" class=\"dataframe\">\n",
       "  <thead>\n",
       "    <tr style=\"text-align: right;\">\n",
       "      <th>rhd</th>\n",
       "      <th>type</th>\n",
       "      <th>name</th>\n",
       "      <th>description</th>\n",
       "      <th>target</th>\n",
       "      <th>belongs_to</th>\n",
       "      <th>group_by</th>\n",
       "      <th>score</th>\n",
       "    </tr>\n",
       "    <tr>\n",
       "      <th>rid</th>\n",
       "      <th></th>\n",
       "      <th></th>\n",
       "      <th></th>\n",
       "      <th></th>\n",
       "      <th></th>\n",
       "      <th></th>\n",
       "      <th></th>\n",
       "    </tr>\n",
       "  </thead>\n",
       "  <tbody>\n",
       "    <tr>\n",
       "      <th>BRD-K89626439</th>\n",
       "      <td>CP</td>\n",
       "      <td>sirolimus</td>\n",
       "      <td>mTOR inhibitor, CCR expression inhibitor, cell...</td>\n",
       "      <td>MTOR, FKBP1A, CCR5, FGF2</td>\n",
       "      <td>MTOR inhibitor</td>\n",
       "      <td>1.0</td>\n",
       "      <td>99.98</td>\n",
       "    </tr>\n",
       "    <tr>\n",
       "      <th>BRD-A62025033</th>\n",
       "      <td>CP</td>\n",
       "      <td>temsirolimus</td>\n",
       "      <td>mTOR inhibitor, cell cycle inhibitor, immunosu...</td>\n",
       "      <td>MTOR, PTEN</td>\n",
       "      <td>MTOR inhibitor</td>\n",
       "      <td>1.0</td>\n",
       "      <td>99.93</td>\n",
       "    </tr>\n",
       "    <tr>\n",
       "      <th>BRD-K05653692</th>\n",
       "      <td>CP</td>\n",
       "      <td>DL-PDMP</td>\n",
       "      <td>ceramide glucosyltransferase inhibitor, glucos...</td>\n",
       "      <td>ASAH1, UGCG</td>\n",
       "      <td></td>\n",
       "      <td>1.0</td>\n",
       "      <td>99.93</td>\n",
       "    </tr>\n",
       "    <tr>\n",
       "      <th>BRD-K68336408</th>\n",
       "      <td>CP</td>\n",
       "      <td>tyrphostin-AG-1478</td>\n",
       "      <td>EGFR inhibitor</td>\n",
       "      <td>EGFR, MAPK14</td>\n",
       "      <td>EGFR inhibitor</td>\n",
       "      <td>1.0</td>\n",
       "      <td>99.93</td>\n",
       "    </tr>\n",
       "    <tr>\n",
       "      <th>BRD-K76840893</th>\n",
       "      <td>CP</td>\n",
       "      <td>RS-17053</td>\n",
       "      <td>adrenergic receptor antagonist</td>\n",
       "      <td>ADRA1A, ADRA1D</td>\n",
       "      <td></td>\n",
       "      <td>1.0</td>\n",
       "      <td>99.93</td>\n",
       "    </tr>\n",
       "  </tbody>\n",
       "</table>\n",
       "</div>"
      ],
      "text/plain": [
       "rhd           type                name  \\\n",
       "rid                                      \n",
       "BRD-K89626439   CP           sirolimus   \n",
       "BRD-A62025033   CP        temsirolimus   \n",
       "BRD-K05653692   CP             DL-PDMP   \n",
       "BRD-K68336408   CP  tyrphostin-AG-1478   \n",
       "BRD-K76840893   CP            RS-17053   \n",
       "\n",
       "rhd                                                  description  \\\n",
       "rid                                                                \n",
       "BRD-K89626439  mTOR inhibitor, CCR expression inhibitor, cell...   \n",
       "BRD-A62025033  mTOR inhibitor, cell cycle inhibitor, immunosu...   \n",
       "BRD-K05653692  ceramide glucosyltransferase inhibitor, glucos...   \n",
       "BRD-K68336408                                     EGFR inhibitor   \n",
       "BRD-K76840893                     adrenergic receptor antagonist   \n",
       "\n",
       "rhd                              target      belongs_to  group_by  score  \n",
       "rid                                                                       \n",
       "BRD-K89626439  MTOR, FKBP1A, CCR5, FGF2  MTOR inhibitor       1.0  99.98  \n",
       "BRD-A62025033                MTOR, PTEN  MTOR inhibitor       1.0  99.93  \n",
       "BRD-K05653692               ASAH1, UGCG                       1.0  99.93  \n",
       "BRD-K68336408              EGFR, MAPK14  EGFR inhibitor       1.0  99.93  \n",
       "BRD-K76840893            ADRA1A, ADRA1D                       1.0  99.93  "
      ]
     },
     "execution_count": 16,
     "metadata": {},
     "output_type": "execute_result"
    }
   ],
   "source": [
    "df.head()"
   ]
  },
  {
   "cell_type": "code",
   "execution_count": null,
   "metadata": {},
   "outputs": [],
   "source": []
  },
  {
   "cell_type": "code",
   "execution_count": null,
   "metadata": {},
   "outputs": [],
   "source": []
  },
  {
   "cell_type": "code",
   "execution_count": null,
   "metadata": {},
   "outputs": [],
   "source": []
  },
  {
   "cell_type": "code",
   "execution_count": null,
   "metadata": {},
   "outputs": [],
   "source": []
  }
 ],
 "metadata": {
  "kernelspec": {
   "display_name": "Python 3",
   "language": "python",
   "name": "python3"
  },
  "language_info": {
   "codemirror_mode": {
    "name": "ipython",
    "version": 3
   },
   "file_extension": ".py",
   "mimetype": "text/x-python",
   "name": "python",
   "nbconvert_exporter": "python",
   "pygments_lexer": "ipython3",
   "version": "3.7.3"
  }
 },
 "nbformat": 4,
 "nbformat_minor": 2
}
