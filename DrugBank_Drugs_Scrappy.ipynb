{
 "cells": [
  {
   "cell_type": "code",
   "execution_count": 15,
   "metadata": {},
   "outputs": [],
   "source": [
    "import requests\n",
    "import csv\n",
    "from bs4 import BeautifulSoup as bsoup"
   ]
  },
  {
   "cell_type": "code",
   "execution_count": 16,
   "metadata": {},
   "outputs": [],
   "source": [
    "records=[]\n",
    "for i in range(1,105):\n",
    "    if i==1 :\n",
    "        r=requests.get('https://www.drugbank.ca/drugs?approved=1&c=name&d=up')\n",
    "        soup=bsoup(r.text, 'html.parser')\n",
    "        results=soup.find_all('td', attrs={'class':'name-value text-sm-center drug-name'} )\n",
    "        for result in results:\n",
    "            drug=result.find('strong').text\n",
    "            dd=result.find('a', href=True)\n",
    "            drugi=dd['href']\n",
    "            drugid=drugi[7:]\n",
    "            records.append((drug,drugid))\n",
    "    else:\n",
    "        r=requests.get('https://www.drugbank.ca/drugs?approved=1&c=name&d=up&page={}'.format(i))\n",
    "        soup=bsoup(r.text, 'html.parser')\n",
    "        results=soup.find_all('td', attrs={'class':'name-value text-sm-center drug-name'} )\n",
    "        for result in results:\n",
    "            drug=result.find('strong').text\n",
    "            dd=result.find('a', href=True)\n",
    "            drugi=dd['href']\n",
    "            drugid=drugi[7:]\n",
    "            records.append((drug,drugid))\n",
    "\n",
    "        \n",
    "        \n"
   ]
  },
  {
   "cell_type": "code",
   "execution_count": 17,
   "metadata": {},
   "outputs": [],
   "source": [
    "#r=requests.get('https://www.drugbank.ca/drugs?approved=1&c=name&d=up')\n",
    "##soup=bsoup(r.text, 'html.parser')\n",
    "##results=soup.find_all('td', attrs={'class':'name-value text-sm-center drug-name'} )\n",
    "#firstres=results[0]\n",
    "#fn=firstres.find('strong').text[0:-1]\n",
    "#drugid=firstres.find('a', href=True)\n",
    "#di=drugid['href']\n",
    "#fn\n"
   ]
  },
  {
   "cell_type": "code",
   "execution_count": 18,
   "metadata": {},
   "outputs": [],
   "source": [
    "#csv\n",
    "#records = []\n",
    "#for result in results:\n",
    "   # drug=result.find('strong').text\n",
    "   # dd=result.find('a', href=True)\n",
    "   # drugid=dd['href']\n",
    "   # records.append((drug,drugid))\n",
    "#len(records)"
   ]
  },
  {
   "cell_type": "code",
   "execution_count": 19,
   "metadata": {},
   "outputs": [],
   "source": [
    "#records[0:3]"
   ]
  },
  {
   "cell_type": "code",
   "execution_count": 20,
   "metadata": {},
   "outputs": [
    {
     "data": {
      "text/plain": [
       "('Zytron', 'DB11768')"
      ]
     },
     "execution_count": 20,
     "metadata": {},
     "output_type": "execute_result"
    }
   ],
   "source": [
    "records[-1]"
   ]
  },
  {
   "cell_type": "code",
   "execution_count": 23,
   "metadata": {},
   "outputs": [
    {
     "data": {
      "text/html": [
       "<div>\n",
       "<style scoped>\n",
       "    .dataframe tbody tr th:only-of-type {\n",
       "        vertical-align: middle;\n",
       "    }\n",
       "\n",
       "    .dataframe tbody tr th {\n",
       "        vertical-align: top;\n",
       "    }\n",
       "\n",
       "    .dataframe thead th {\n",
       "        text-align: right;\n",
       "    }\n",
       "</style>\n",
       "<table border=\"1\" class=\"dataframe\">\n",
       "  <thead>\n",
       "    <tr style=\"text-align: right;\">\n",
       "      <th></th>\n",
       "      <th>Drug</th>\n",
       "      <th>DrugID</th>\n",
       "    </tr>\n",
       "  </thead>\n",
       "  <tbody>\n",
       "    <tr>\n",
       "      <th>0</th>\n",
       "      <td>1-Palmitoyl-2-oleoyl-sn-glycero-3-(phospho-rac...</td>\n",
       "      <td>DB11331</td>\n",
       "    </tr>\n",
       "    <tr>\n",
       "      <th>1</th>\n",
       "      <td>1,2-Distearoyllecithin</td>\n",
       "      <td>DB14099</td>\n",
       "    </tr>\n",
       "    <tr>\n",
       "      <th>2</th>\n",
       "      <td>1,2-icosapentoyl-sn-glycero-3-phosphoserine</td>\n",
       "      <td>DB14096</td>\n",
       "    </tr>\n",
       "    <tr>\n",
       "      <th>3</th>\n",
       "      <td>2-mercaptobenzothiazole</td>\n",
       "      <td>DB11496</td>\n",
       "    </tr>\n",
       "    <tr>\n",
       "      <th>4</th>\n",
       "      <td>2,2'-Dibenzothiazyl disulfide</td>\n",
       "      <td>DB14201</td>\n",
       "    </tr>\n",
       "  </tbody>\n",
       "</table>\n",
       "</div>"
      ],
      "text/plain": [
       "                                                Drug   DrugID\n",
       "0  1-Palmitoyl-2-oleoyl-sn-glycero-3-(phospho-rac...  DB11331\n",
       "1                             1,2-Distearoyllecithin  DB14099\n",
       "2        1,2-icosapentoyl-sn-glycero-3-phosphoserine  DB14096\n",
       "3                            2-mercaptobenzothiazole  DB11496\n",
       "4                      2,2'-Dibenzothiazyl disulfide  DB14201"
      ]
     },
     "execution_count": 23,
     "metadata": {},
     "output_type": "execute_result"
    }
   ],
   "source": [
    "import pandas as pd\n",
    "df=pd.DataFrame(records, columns=['Drug','DrugID'])\n",
    "df.head()"
   ]
  },
  {
   "cell_type": "code",
   "execution_count": 25,
   "metadata": {},
   "outputs": [],
   "source": [
    "df.to_csv('Drugbank_DrugsnID_cleanedd.csv', index=False, encoding='utf-8')\n"
   ]
  },
  {
   "cell_type": "code",
   "execution_count": 9,
   "metadata": {},
   "outputs": [
    {
     "ename": "NameError",
     "evalue": "name 'wd' is not defined",
     "output_type": "error",
     "traceback": [
      "\u001b[1;31m---------------------------------------------------------------------------\u001b[0m",
      "\u001b[1;31mNameError\u001b[0m                                 Traceback (most recent call last)",
      "\u001b[1;32m<ipython-input-9-7b761c176b4d>\u001b[0m in \u001b[0;36m<module>\u001b[1;34m\u001b[0m\n\u001b[1;32m----> 1\u001b[1;33m \u001b[0mwd\u001b[0m\u001b[1;33m\u001b[0m\u001b[1;33m\u001b[0m\u001b[0m\n\u001b[0m",
      "\u001b[1;31mNameError\u001b[0m: name 'wd' is not defined"
     ]
    }
   ],
   "source": []
  },
  {
   "cell_type": "code",
   "execution_count": null,
   "metadata": {},
   "outputs": [],
   "source": []
  }
 ],
 "metadata": {
  "kernelspec": {
   "display_name": "Python 3",
   "language": "python",
   "name": "python3"
  },
  "language_info": {
   "codemirror_mode": {
    "name": "ipython",
    "version": 3
   },
   "file_extension": ".py",
   "mimetype": "text/x-python",
   "name": "python",
   "nbconvert_exporter": "python",
   "pygments_lexer": "ipython3",
   "version": "3.7.3"
  }
 },
 "nbformat": 4,
 "nbformat_minor": 2
}
